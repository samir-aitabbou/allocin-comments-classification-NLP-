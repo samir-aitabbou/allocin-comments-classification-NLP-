{
 "cells": [
  {
   "cell_type": "markdown",
   "id": "1620a3f3",
   "metadata": {},
   "source": [
    "# in this second version of LSTM I will \n",
    "\n",
    "      1° balance train and dev data \n",
    "      2° give equal weights to all target classes\n",
    "      3° increase training  epochs\n",
    "      4° decrease training  batch size"
   ]
  },
  {
   "cell_type": "code",
   "execution_count": 1,
   "id": "a140c607-9d97-4116-b84b-5a3ce8528cf8",
   "metadata": {
    "tags": []
   },
   "outputs": [
    {
     "name": "stdout",
     "output_type": "stream",
     "text": [
      "Requirement already satisfied: nltk in /home/ec2-user/anaconda3/envs/tensorflow2_p310/lib/python3.10/site-packages (3.8.1)\n",
      "Requirement already satisfied: click in /home/ec2-user/anaconda3/envs/tensorflow2_p310/lib/python3.10/site-packages (from nltk) (8.1.7)\n",
      "Requirement already satisfied: joblib in /home/ec2-user/anaconda3/envs/tensorflow2_p310/lib/python3.10/site-packages (from nltk) (1.3.2)\n",
      "Requirement already satisfied: regex>=2021.8.3 in /home/ec2-user/anaconda3/envs/tensorflow2_p310/lib/python3.10/site-packages (from nltk) (2023.10.3)\n",
      "Requirement already satisfied: tqdm in /home/ec2-user/anaconda3/envs/tensorflow2_p310/lib/python3.10/site-packages (from nltk) (4.66.1)\n"
     ]
    }
   ],
   "source": [
    "!pip install nltk"
   ]
  },
  {
   "cell_type": "code",
   "execution_count": 1,
   "id": "bc7638e8",
   "metadata": {},
   "outputs": [],
   "source": [
    "import pandas as pd\n",
    "import numpy as np\n",
    "import nltk\n",
    "import seaborn as sns\n",
    "import time\n",
    "import re\n",
    "import random\n",
    "\n",
    "# Initialisation du générateur de nombres aléatoires\n",
    "random.seed(123)\n",
    "\n",
    "tokenizer = nltk.RegexpTokenizer(r'''\\w'|\\w+|[^\\w\\s]''')\n",
    "\n",
    "import tensorflow as tf\n",
    "from tensorflow.keras.utils import to_categorical\n",
    "from tensorflow.keras.preprocessing.text import Tokenizer\n",
    "from tensorflow.keras.layers import Embedding, LSTM, Dense, Dropout, Reshape, SpatialDropout1D\n",
    "# from tensorflow.keras.callbacks import EarlyStopping\n",
    "from tensorflow.keras.losses import categorical_crossentropy\n",
    "from tensorflow.keras.optimizers import Adam\n",
    "from tensorflow.keras.models import Sequential\n",
    "from tensorflow.keras.preprocessing.text import Tokenizer\n",
    "from tensorflow.keras.preprocessing.sequence import pad_sequences\n",
    "from tensorflow.keras.callbacks import ModelCheckpoint, EarlyStopping\n",
    "from sklearn.utils import class_weight\n",
    "\n"
   ]
  },
  {
   "cell_type": "code",
   "execution_count": 3,
   "id": "b1bfb623",
   "metadata": {},
   "outputs": [
    {
     "name": "stderr",
     "output_type": "stream",
     "text": [
      "[nltk_data] Downloading package punkt to /home/ec2-user/nltk_data...\n",
      "[nltk_data]   Unzipping tokenizers/punkt.zip.\n",
      "[nltk_data] Downloading package stopwords to\n",
      "[nltk_data]     /home/ec2-user/nltk_data...\n",
      "[nltk_data]   Unzipping corpora/stopwords.zip.\n"
     ]
    },
    {
     "data": {
      "text/plain": [
       "True"
      ]
     },
     "execution_count": 3,
     "metadata": {},
     "output_type": "execute_result"
    }
   ],
   "source": [
    "import nltk\n",
    "\n",
    "# Télécharge les données nécessaires pour le tokenizer (segmenteur) de phrases et de mots\n",
    "nltk.download('punkt')\n",
    "\n",
    "# Télécharge la liste de mots vides (stopwords) pour différentes langues\n",
    "nltk.download('stopwords')"
   ]
  },
  {
   "cell_type": "code",
   "execution_count": 2,
   "id": "359c0fe3",
   "metadata": {},
   "outputs": [],
   "source": [
    "train_data = pd.read_csv('cleaned_data/train_cleaned.csv',index_col=0)\n",
    "dev_data   = pd.read_csv('cleaned_data/dev_cleaned.csv',index_col=0)\n",
    "test_data  =  pd.read_csv('cleaned_data/test_cleaned.csv',index_col=0)"
   ]
  },
  {
   "cell_type": "code",
   "execution_count": 5,
   "id": "f399ef2c",
   "metadata": {},
   "outputs": [
    {
     "name": "stdout",
     "output_type": "stream",
     "text": [
      "train_data shape (665962, 6)\n",
      "dev_data shape (100400, 6)\n",
      "test_data shape (85847, 5)\n"
     ]
    }
   ],
   "source": [
    "print(\"train_data shape\",train_data.shape)\n",
    "print(\"dev_data shape\",dev_data.shape)\n",
    "print(\"test_data shape\",test_data.shape)"
   ]
  },
  {
   "cell_type": "code",
   "execution_count": 6,
   "id": "3beec910",
   "metadata": {},
   "outputs": [],
   "source": [
    "# GET ONLY 1/4 OF TRAIN AND DEV DATA DUE TO COMPUTATION RESOURCES LIMITATIONS\n",
    "# train_data = train_data.head(200)\n",
    "# dev_data = dev_data.head(50)\n"
   ]
  },
  {
   "cell_type": "markdown",
   "id": "e6ae2b06",
   "metadata": {},
   "source": [
    "# Balancing label classes"
   ]
  },
  {
   "cell_type": "code",
   "execution_count": 7,
   "id": "f0e438c8",
   "metadata": {},
   "outputs": [
    {
     "data": {
      "text/plain": [
       "7    124656\n",
       "6     97443\n",
       "5     94103\n",
       "9     75903\n",
       "8     64296\n",
       "4     58719\n",
       "3     55285\n",
       "0     38372\n",
       "1     30236\n",
       "2     26949\n",
       "Name: note, dtype: int64"
      ]
     },
     "execution_count": 7,
     "metadata": {},
     "output_type": "execute_result"
    }
   ],
   "source": [
    "train_data['note'].value_counts()"
   ]
  },
  {
   "cell_type": "code",
   "execution_count": 8,
   "id": "1fed2d2b",
   "metadata": {},
   "outputs": [
    {
     "data": {
      "text/plain": [
       "7    18594\n",
       "6    14333\n",
       "5    13881\n",
       "9    12906\n",
       "8     9945\n",
       "4     8289\n",
       "3     8110\n",
       "0     5835\n",
       "1     4547\n",
       "2     3960\n",
       "Name: note, dtype: int64"
      ]
     },
     "execution_count": 8,
     "metadata": {},
     "output_type": "execute_result"
    }
   ],
   "source": [
    "dev_data['note'].value_counts()"
   ]
  },
  {
   "cell_type": "code",
   "execution_count": 9,
   "id": "26d47bc5",
   "metadata": {},
   "outputs": [],
   "source": [
    "# get the same minority classe size in all other classes in train and dev data \n",
    "\n",
    "from sklearn.utils import resample, class_weight\n",
    "\n",
    "\n",
    "# Calculez la taille de la classe minoritaire\n",
    "train_minority_class_size = min(train_data['note'].value_counts())\n",
    "dev_minority_class_size = min(dev_data['note'].value_counts())\n",
    "\n",
    "# Sous-échantillonnez les classes majoritaires pour avoir la même taille que la classe minoritaire\n",
    "train_data = pd.concat([\n",
    "    resample(train_data[train_data['note'] == note], replace=True, n_samples=train_minority_class_size)\n",
    "    for note in train_data['note'].unique()\n",
    "])\n",
    "\n",
    "dev_data = pd.concat([\n",
    "    resample(dev_data[dev_data['note'] == note], replace=True, n_samples=dev_minority_class_size)\n",
    "    for note in dev_data['note'].unique()\n",
    "])\n"
   ]
  },
  {
   "cell_type": "code",
   "execution_count": 10,
   "id": "6141c587",
   "metadata": {},
   "outputs": [
    {
     "data": {
      "text/plain": [
       "7    26949\n",
       "6    26949\n",
       "8    26949\n",
       "5    26949\n",
       "1    26949\n",
       "4    26949\n",
       "9    26949\n",
       "3    26949\n",
       "0    26949\n",
       "2    26949\n",
       "Name: note, dtype: int64"
      ]
     },
     "execution_count": 10,
     "metadata": {},
     "output_type": "execute_result"
    }
   ],
   "source": [
    "train_data['note'].value_counts()"
   ]
  },
  {
   "cell_type": "code",
   "execution_count": 11,
   "id": "8d32b4ad",
   "metadata": {},
   "outputs": [
    {
     "data": {
      "text/plain": [
       "9    3960\n",
       "6    3960\n",
       "7    3960\n",
       "3    3960\n",
       "8    3960\n",
       "5    3960\n",
       "0    3960\n",
       "4    3960\n",
       "1    3960\n",
       "2    3960\n",
       "Name: note, dtype: int64"
      ]
     },
     "execution_count": 11,
     "metadata": {},
     "output_type": "execute_result"
    }
   ],
   "source": [
    "dev_data['note'].value_counts()"
   ]
  },
  {
   "cell_type": "code",
   "execution_count": 7,
   "id": "42951849",
   "metadata": {},
   "outputs": [],
   "source": [
    "train_data['commentaire'] = train_data['commentaire'].astype(str)\n",
    "dev_data['commentaire']   = dev_data['commentaire'].astype(str)\n",
    "test_data['commentaire']  = test_data['commentaire'].astype(str)"
   ]
  },
  {
   "cell_type": "markdown",
   "id": "09d60adf",
   "metadata": {},
   "source": [
    "# Data Split"
   ]
  },
  {
   "cell_type": "code",
   "execution_count": 13,
   "id": "cd2cbae1",
   "metadata": {},
   "outputs": [],
   "source": [
    "X_train = train_data['commentaire']\n",
    "X_dev = dev_data['commentaire']\n",
    "X_test = test_data['commentaire']\n",
    "\n",
    "y_train = train_data['note']\n",
    "y_dev = dev_data['note']"
   ]
  },
  {
   "cell_type": "code",
   "execution_count": 14,
   "id": "df59ed3b",
   "metadata": {},
   "outputs": [
    {
     "data": {
      "text/plain": [
       "array([7, 6, 8, 5, 1, 4, 9, 3, 0, 2])"
      ]
     },
     "execution_count": 14,
     "metadata": {},
     "output_type": "execute_result"
    }
   ],
   "source": [
    "y_train.unique()"
   ]
  },
  {
   "cell_type": "code",
   "execution_count": 15,
   "id": "dd6c3864",
   "metadata": {},
   "outputs": [
    {
     "data": {
      "text/plain": [
       "82883     7\n",
       "445749    7\n",
       "270622    7\n",
       "638349    7\n",
       "502292    7\n",
       "         ..\n",
       "635800    2\n",
       "465938    2\n",
       "385197    2\n",
       "496387    2\n",
       "381008    2\n",
       "Name: note, Length: 269490, dtype: int64"
      ]
     },
     "execution_count": 15,
     "metadata": {},
     "output_type": "execute_result"
    }
   ],
   "source": [
    "y_train"
   ]
  },
  {
   "cell_type": "markdown",
   "id": "f9bf433b",
   "metadata": {},
   "source": [
    "# Y one hot encoding"
   ]
  },
  {
   "cell_type": "code",
   "execution_count": 16,
   "id": "42aaa251",
   "metadata": {},
   "outputs": [
    {
     "name": "stdout",
     "output_type": "stream",
     "text": [
      "[[0. 0. 0. 0. 0. 0. 0. 1. 0. 0.]\n",
      " [0. 0. 0. 0. 0. 0. 0. 1. 0. 0.]\n",
      " [0. 0. 0. 0. 0. 0. 0. 1. 0. 0.]\n",
      " [0. 0. 0. 0. 0. 0. 0. 1. 0. 0.]\n",
      " [0. 0. 0. 0. 0. 0. 0. 1. 0. 0.]\n",
      " [0. 0. 0. 0. 0. 0. 0. 1. 0. 0.]\n",
      " [0. 0. 0. 0. 0. 0. 0. 1. 0. 0.]\n",
      " [0. 0. 0. 0. 0. 0. 0. 1. 0. 0.]\n",
      " [0. 0. 0. 0. 0. 0. 0. 1. 0. 0.]\n",
      " [0. 0. 0. 0. 0. 0. 0. 1. 0. 0.]]\n"
     ]
    }
   ],
   "source": [
    "y_train_one_hotencoding = to_categorical(y_train, num_classes=10)\n",
    "print(y_train_one_hotencoding[:10])"
   ]
  },
  {
   "cell_type": "code",
   "execution_count": 17,
   "id": "4265f7ca",
   "metadata": {},
   "outputs": [
    {
     "name": "stdout",
     "output_type": "stream",
     "text": [
      "[[0. 0. 0. 0. 0. 0. 0. 0. 0. 1.]\n",
      " [0. 0. 0. 0. 0. 0. 0. 0. 0. 1.]\n",
      " [0. 0. 0. 0. 0. 0. 0. 0. 0. 1.]\n",
      " [0. 0. 0. 0. 0. 0. 0. 0. 0. 1.]\n",
      " [0. 0. 0. 0. 0. 0. 0. 0. 0. 1.]\n",
      " [0. 0. 0. 0. 0. 0. 0. 0. 0. 1.]\n",
      " [0. 0. 0. 0. 0. 0. 0. 0. 0. 1.]\n",
      " [0. 0. 0. 0. 0. 0. 0. 0. 0. 1.]\n",
      " [0. 0. 0. 0. 0. 0. 0. 0. 0. 1.]\n",
      " [0. 0. 0. 0. 0. 0. 0. 0. 0. 1.]]\n"
     ]
    }
   ],
   "source": [
    "y_dev_one_hotencoding = to_categorical(y_dev, num_classes=10)\n",
    "print(y_dev_one_hotencoding[:10])"
   ]
  },
  {
   "cell_type": "code",
   "execution_count": 18,
   "id": "1c9cbf0d",
   "metadata": {},
   "outputs": [
    {
     "data": {
      "text/plain": [
       "212994"
      ]
     },
     "execution_count": 18,
     "metadata": {},
     "output_type": "execute_result"
    }
   ],
   "source": [
    "len(list(X_train.unique()))"
   ]
  },
  {
   "cell_type": "markdown",
   "id": "4ca6a5f3",
   "metadata": {},
   "source": [
    "# Tokenization"
   ]
  },
  {
   "cell_type": "code",
   "execution_count": 19,
   "id": "c1088478",
   "metadata": {},
   "outputs": [
    {
     "name": "stdout",
     "output_type": "stream",
     "text": [
      "Found 142411 unique tokens.\n"
     ]
    }
   ],
   "source": [
    "n_most_common_words = 10000\n",
    "max_len = 180\n",
    "\n",
    "tokenizer = Tokenizer(num_words=n_most_common_words)\n",
    "tokenizer.fit_on_texts(list(X_train))\n",
    "\n",
    "X_train = tokenizer.texts_to_sequences(X_train) \n",
    "X_dev = tokenizer.texts_to_sequences(X_dev)\n",
    "\n",
    "word_index = tokenizer.word_index\n",
    "print('Found %s unique tokens.' % len(word_index))\n",
    "\n",
    "\n",
    "X_train = pad_sequences(X_train, maxlen=max_len)\n",
    "X_dev = pad_sequences(X_dev, maxlen=max_len)"
   ]
  },
  {
   "cell_type": "markdown",
   "id": "b8d53bba",
   "metadata": {},
   "source": [
    "# Save tokenizer"
   ]
  },
  {
   "cell_type": "code",
   "execution_count": 20,
   "id": "29470dd1",
   "metadata": {},
   "outputs": [],
   "source": [
    "import pickle\n",
    "\n",
    "# Sauvegarder le tokenizer\n",
    "with open('Lstm_tokenizer.pkl', 'wb') as tokenizer_file:\n",
    "    pickle.dump(tokenizer, tokenizer_file)\n"
   ]
  },
  {
   "cell_type": "markdown",
   "id": "8c25da79",
   "metadata": {},
   "source": [
    "# Training"
   ]
  },
  {
   "cell_type": "code",
   "execution_count": 21,
   "id": "fc2dde14",
   "metadata": {},
   "outputs": [],
   "source": [
    "epochs  = 20\n",
    "emb_dim = 128\n",
    "batch_size = 32\n",
    "# batch_size = 128"
   ]
  },
  {
   "cell_type": "code",
   "execution_count": 22,
   "id": "b7275537",
   "metadata": {},
   "outputs": [
    {
     "name": "stdout",
     "output_type": "stream",
     "text": [
      "((269490, 180), (269490, 10), (39600, 180), (39600, 10))\n"
     ]
    }
   ],
   "source": [
    "print((X_train.shape, y_train_one_hotencoding.shape, X_dev.shape, y_dev_one_hotencoding.shape))\n"
   ]
  },
  {
   "cell_type": "code",
   "execution_count": 23,
   "id": "f24224d6",
   "metadata": {},
   "outputs": [
    {
     "name": "stderr",
     "output_type": "stream",
     "text": [
      "2024-01-04 16:17:51.360493: E tensorflow/compiler/xla/stream_executor/cuda/cuda_driver.cc:268] failed call to cuInit: CUDA_ERROR_NO_DEVICE: no CUDA-capable device is detected\n"
     ]
    },
    {
     "name": "stdout",
     "output_type": "stream",
     "text": [
      "Model: \"sequential\"\n",
      "_________________________________________________________________\n",
      " Layer (type)                Output Shape              Param #   \n",
      "=================================================================\n",
      " embedding (Embedding)       (None, 180, 128)          1280000   \n",
      "                                                                 \n",
      " lstm (LSTM)                 (None, 180, 128)          131584    \n",
      "                                                                 \n",
      " lstm_1 (LSTM)               (None, 180, 256)          394240    \n",
      "                                                                 \n",
      " lstm_2 (LSTM)               (None, 128)               197120    \n",
      "                                                                 \n",
      " dense (Dense)               (None, 64)                8256      \n",
      "                                                                 \n",
      " dropout (Dropout)           (None, 64)                0         \n",
      "                                                                 \n",
      " dense_1 (Dense)             (None, 32)                2080      \n",
      "                                                                 \n",
      " dense_2 (Dense)             (None, 10)                330       \n",
      "                                                                 \n",
      "=================================================================\n",
      "Total params: 2013610 (7.68 MB)\n",
      "Trainable params: 2013610 (7.68 MB)\n",
      "Non-trainable params: 0 (0.00 Byte)\n",
      "_________________________________________________________________\n",
      "Epoch 1/20\n",
      "8422/8422 [==============================] - ETA: 0s - loss: 1.6878 - accuracy: 0.3116\n",
      "Epoch 1: val_accuracy improved from -inf to 0.34212, saving model to Lstm_best_model_improved.hdf5\n",
      "8422/8422 [==============================] - 4346s 515ms/step - loss: 1.6878 - accuracy: 0.3116 - val_loss: 1.5975 - val_accuracy: 0.3421\n",
      "Epoch 2/20\n"
     ]
    },
    {
     "name": "stderr",
     "output_type": "stream",
     "text": [
      "/home/ec2-user/anaconda3/envs/tensorflow2_p310/lib/python3.10/site-packages/keras/src/engine/training.py:3000: UserWarning: You are saving your model as an HDF5 file via `model.save()`. This file format is considered legacy. We recommend using instead the native Keras format, e.g. `model.save('my_model.keras')`.\n",
      "  saving_api.save_model(\n"
     ]
    },
    {
     "name": "stdout",
     "output_type": "stream",
     "text": [
      "8422/8422 [==============================] - ETA: 0s - loss: 1.5276 - accuracy: 0.3670\n",
      "Epoch 2: val_accuracy improved from 0.34212 to 0.35356, saving model to Lstm_best_model_improved.hdf5\n",
      "8422/8422 [==============================] - 4279s 508ms/step - loss: 1.5276 - accuracy: 0.3670 - val_loss: 1.5881 - val_accuracy: 0.3536\n",
      "Epoch 3/20\n",
      "8422/8422 [==============================] - ETA: 0s - loss: 1.4542 - accuracy: 0.3966\n",
      "Epoch 3: val_accuracy did not improve from 0.35356\n",
      "8422/8422 [==============================] - 3590s 426ms/step - loss: 1.4542 - accuracy: 0.3966 - val_loss: 1.5816 - val_accuracy: 0.3508\n",
      "Epoch 4/20\n",
      "8422/8422 [==============================] - ETA: 0s - loss: 1.3939 - accuracy: 0.4222\n",
      "Epoch 4: val_accuracy did not improve from 0.35356\n",
      "8422/8422 [==============================] - 3591s 426ms/step - loss: 1.3939 - accuracy: 0.4222 - val_loss: 1.6092 - val_accuracy: 0.3448\n",
      "Epoch 5/20\n",
      "8422/8422 [==============================] - ETA: 0s - loss: 1.3404 - accuracy: 0.4471\n",
      "Epoch 5: val_accuracy did not improve from 0.35356\n",
      "8422/8422 [==============================] - 3589s 426ms/step - loss: 1.3404 - accuracy: 0.4471 - val_loss: 1.6478 - val_accuracy: 0.3441\n",
      "Execution time: 05:23:15\n"
     ]
    }
   ],
   "source": [
    "# Model definition\n",
    "model = Sequential()\n",
    "model.add(Embedding(n_most_common_words, emb_dim, input_length=X_train.shape[1]))\n",
    "model.add(LSTM(128, dropout=0.2, recurrent_dropout=0.2, return_sequences=True))\n",
    "model.add(LSTM(256, dropout=0.2, recurrent_dropout=0.2, return_sequences=True))\n",
    "model.add(LSTM(128, dropout=0.2, recurrent_dropout=0.2, return_sequences=False))\n",
    "\n",
    "model.add(Dense(64, activation='relu'))\n",
    "model.add(Dropout(0.5))\n",
    "model.add(Dense(32, activation='relu'))\n",
    "model.add(Dense(10, activation='softmax'))\n",
    "\n",
    "\n",
    "# IMPROVEMENT\n",
    "# give equal class weights\n",
    "class_weights = class_weight.compute_class_weight('balanced', classes=np.unique(y_train), y=y_train)\n",
    "# Convert class weights to a dictionary for use with Keras\n",
    "class_weight_dict = dict(enumerate(class_weights))\n",
    "\n",
    "\n",
    "# Compile the model\n",
    "model.compile(optimizer='adam', loss='categorical_crossentropy', metrics=['accuracy'])\n",
    "model.summary()\n",
    "\n",
    "# Create callbacks\n",
    "filepath = 'Lstm_best_model_improved.hdf5'\n",
    "checkpoint = ModelCheckpoint(\n",
    "    filepath=filepath,\n",
    "    monitor='val_accuracy',\n",
    "    verbose=1,\n",
    "    save_best_only=True,\n",
    "    mode='max'\n",
    ")\n",
    "\n",
    "early_stopping = EarlyStopping(\n",
    "    monitor='val_accuracy',\n",
    "    patience=3,  # Increased patience\n",
    "    restore_best_weights=True\n",
    ")\n",
    "\n",
    "callbacks = [checkpoint, early_stopping]\n",
    "\n",
    "# Training\n",
    "start_time = time.time()\n",
    "history = model.fit(X_train, y_train_one_hotencoding, epochs=epochs, batch_size=batch_size,\n",
    "                    validation_data=(X_dev, y_dev_one_hotencoding), verbose=1, callbacks=callbacks, class_weight=class_weight_dict)\n",
    "execution_time = time.time() - start_time\n",
    "\n",
    "print('Execution time:', time.strftime(\"%H:%M:%S\", time.gmtime(execution_time)))"
   ]
  },
  {
   "cell_type": "markdown",
   "id": "fa0314e9",
   "metadata": {},
   "source": [
    "# save train and validation accuracy/loss"
   ]
  },
  {
   "cell_type": "code",
   "execution_count": 24,
   "id": "83587341",
   "metadata": {},
   "outputs": [
    {
     "data": {
      "image/png": "[encoded data removed]",
      "text/plain": [
       "<Figure size 640x480 with 1 Axes>"
      ]
     },
     "metadata": {},
     "output_type": "display_data"
    },
    {
     "data": {
      "image/png": "[encoded data removed]",
      "text/plain": [
       "<Figure size 640x480 with 1 Axes>"
      ]
     },
     "metadata": {},
     "output_type": "display_data"
    }
   ],
   "source": [
    "import matplotlib.pyplot as plt\n",
    "\n",
    "acc = history.history['accuracy']\n",
    "val_acc = history.history['val_accuracy']\n",
    "loss = history.history['loss']\n",
    "val_loss = history.history['val_loss']\n",
    "\n",
    "epochs = range(1, len(acc) + 1)\n",
    "\n",
    "# Plot accuracy\n",
    "plt.plot(epochs, acc, 'bo', label='Training acc')\n",
    "plt.plot(epochs, val_acc, 'b', label='Validation acc')\n",
    "plt.title('Training and validation accuracy')\n",
    "plt.legend()\n",
    "plt.savefig('accuracy_plot.png')  # Save the plot as an image\n",
    "\n",
    "# Clear the figure for the next plot\n",
    "plt.figure()\n",
    "\n",
    "# Plot loss\n",
    "plt.plot(epochs, loss, 'bo', label='Training loss')\n",
    "plt.plot(epochs, val_loss, 'b', label='Validation loss')\n",
    "plt.title('Training and validation loss')\n",
    "plt.legend()\n",
    "plt.savefig('loss_plot.png')  # Save the plot as an image\n"
   ]
  },
  {
   "cell_type": "markdown",
   "id": "5cd8ab38",
   "metadata": {},
   "source": [
    "# Test and saving results"
   ]
  },
  {
   "cell_type": "code",
   "execution_count": 8,
   "id": "bea05a2a",
   "metadata": {},
   "outputs": [],
   "source": [
    "# Charger le tokenizer depuis le fichier\n",
    "import pickle\n",
    "with open('Lstm_tokenizer.pkl', 'rb') as tokenizer_file:\n",
    "    loaded_tokenizer = pickle.load(tokenizer_file)"
   ]
  },
  {
   "cell_type": "code",
   "execution_count": 10,
   "id": "145ffd91",
   "metadata": {},
   "outputs": [
    {
     "name": "stdout",
     "output_type": "stream",
     "text": [
      "2683/2683 [==============================] - 724s 270ms/step\n",
      "argmax_predictions:  [3 6 7 ... 6 7 8]\n"
     ]
    }
   ],
   "source": [
    "from tensorflow.keras.models import load_model\n",
    "\n",
    "# model = load_model('MLP_Best_One.hdf5'),this command doesn't work for me, i had to change the saved model path\n",
    "\n",
    "modelpath = \"C:/trained_Models/Lstm_best_model_improved.hdf5\"\n",
    "max_len = 180\n",
    "\n",
    "\n",
    "# Load the model with compile=False\n",
    "Lstm_best_model = load_model(modelpath)\n",
    "\n",
    "X_test = test_data['commentaire']\n",
    "# X_test = tokenizer.texts_to_sequences(X_test)\n",
    "X_test = loaded_tokenizer.texts_to_sequences(X_test)\n",
    "X_test = pad_sequences(X_test, maxlen=max_len)\n",
    "\n",
    "predictions = Lstm_best_model.predict(X_test)\n",
    "argmax_predictions = np.argmax(predictions,axis =1)\n",
    "\n",
    "print(\"argmax_predictions: \",argmax_predictions)\n",
    " \n",
    "# # generate the plateform test data format        \n",
    "with open(\"LSTM_ID_Prediction_improved.txt\", \"w\") as f:\n",
    "    for i in range(len(test_data['review_id'])):\n",
    "        prediction = (argmax_predictions[i] + 1) / 2\n",
    "        line = f\"{test_data['review_id'].iloc[i]} {str(prediction).replace('.', ',')}\\n\"\n",
    "        f.write(line)\n",
    "\n",
    "      "
   ]
  },
  {
   "cell_type": "code",
   "execution_count": null,
   "id": "f8227583",
   "metadata": {},
   "outputs": [],
   "source": []
  },
  {
   "cell_type": "code",
   "execution_count": null,
   "id": "8397bae0",
   "metadata": {},
   "outputs": [],
   "source": []
  },
  {
   "cell_type": "code",
   "execution_count": null,
   "id": "170fe3e4",
   "metadata": {},
   "outputs": [],
   "source": []
  }
 ],
 "metadata": {
  "kernelspec": {
   "display_name": "Python 3 (ipykernel)",
   "language": "python",
   "name": "python3"
  },
  "language_info": {
   "codemirror_mode": {
    "name": "ipython",
    "version": 3
   },
   "file_extension": ".py",
   "mimetype": "text/x-python",
   "name": "python",
   "nbconvert_exporter": "python",
   "pygments_lexer": "ipython3",
   "version": "3.11.1"
  }
 },
 "nbformat": 4,
 "nbformat_minor": 5
}
